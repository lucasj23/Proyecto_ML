{
 "cells": [
  {
   "cell_type": "markdown",
   "metadata": {},
   "source": [
    "# Proyecto Individual 1 - ML OPS"
   ]
  },
  {
   "cell_type": "markdown",
   "metadata": {},
   "source": [
    "La empresa en donde estoy trabajando como Data Scientist, una una plataforma multinacional de videojuegos, me ha solicitado que me encargue de crear un sistema de recomendación de videojuegos para usuarios. La idea es crear un modelo de ML que solucione este problema de negocio. \n",
    "\n",
    "Dado que la madurez de los datos es nula, es necesario empezar desde 0, empezando por hacer un trabajo breve de Data Engineer y luego lograr tener un MVP (Minimum Viable Product) para el cierre del proyecto:\n",
    "\n",
    "- Transformaciones: Para este MVP no se solicitan transformaciones de datos (aunque haya motivos para hacerlo) pero se trabajará en leer el dataset con el formato correcto. Me indicaron que se puede eliminar las columnas que no se necesitan para responder las consultas o preparar los modelos de aprendizaje automático, y de esa manera optimizar el rendimiento de la API y el entrenamiento del modelo.\n",
    "\n",
    "- Feature Engineering: En el dataset 'user_reviews' se incluyen reseñas de juegos hechos por distintos usuarios. Se debe crear la columna 'sentiment_analysis' aplicando análisis de sentimiento con NLP con la siguiente escala: debe tomar el valor '0' si es malo, '1' si es neutral y '2' si es positivo. Esta nueva columna debe reemplazar la de user_reviews.review para facilitar el trabajo de los modelos de machine learning y el análisis de datos. De no ser posible este análisis por estar ausente la reseña escrita, se indicó que debe tomar el valor de 1.\n",
    "\n",
    "Desarrollo API: Se propone disponibilizar los datos de la empresa usando el framework 'FastAPI'."
   ]
  },
  {
   "cell_type": "markdown",
   "metadata": {},
   "source": [
    "Empezamos, entonces, con lo primero: importar nuestros datasets otorgados (los cuales son 3), para poder ver con que nos enfrentamos."
   ]
  },
  {
   "cell_type": "code",
   "execution_count": 2,
   "metadata": {},
   "outputs": [],
   "source": [
    "# Importamos primer dataset: Australian Users Reviews\n",
    "\n",
    "import pandas as pd\n",
    "import ast\n",
    "\n",
    "# Lista para almacenar los diccionarios JSON de cada línea\n",
    "data_list = []\n",
    "\n",
    "# Ruta del archivo JSON\n",
    "file_path = 'australian_user_reviews.json'\n",
    "\n",
    "# Abrir el archivo y procesar cada línea\n",
    "with open(file_path, 'r', encoding='utf8') as file:\n",
    "    for line in file:\n",
    "        try:\n",
    "            # Usar ast.literal_eval para convertir la línea en un diccionario\n",
    "            json_data = ast.literal_eval(line)\n",
    "            data_list.append(json_data)\n",
    "        except ValueError as e:\n",
    "            print(f\"Error en la línea: {line}\")\n",
    "            continue\n",
    "\n",
    "# Crear un DataFrame a partir de la lista de diccionarios\n",
    "df_reviews = pd.json_normalize(data_list, record_path='reviews', meta=['user_id','user_url'])"
   ]
  },
  {
   "cell_type": "code",
   "execution_count": 3,
   "metadata": {},
   "outputs": [
    {
     "data": {
      "text/html": [
       "<div>\n",
       "<style scoped>\n",
       "    .dataframe tbody tr th:only-of-type {\n",
       "        vertical-align: middle;\n",
       "    }\n",
       "\n",
       "    .dataframe tbody tr th {\n",
       "        vertical-align: top;\n",
       "    }\n",
       "\n",
       "    .dataframe thead th {\n",
       "        text-align: right;\n",
       "    }\n",
       "</style>\n",
       "<table border=\"1\" class=\"dataframe\">\n",
       "  <thead>\n",
       "    <tr style=\"text-align: right;\">\n",
       "      <th></th>\n",
       "      <th>funny</th>\n",
       "      <th>posted</th>\n",
       "      <th>last_edited</th>\n",
       "      <th>item_id</th>\n",
       "      <th>helpful</th>\n",
       "      <th>recommend</th>\n",
       "      <th>review</th>\n",
       "      <th>user_id</th>\n",
       "      <th>user_url</th>\n",
       "    </tr>\n",
       "  </thead>\n",
       "  <tbody>\n",
       "    <tr>\n",
       "      <th>0</th>\n",
       "      <td></td>\n",
       "      <td>Posted November 5, 2011.</td>\n",
       "      <td></td>\n",
       "      <td>1250</td>\n",
       "      <td>No ratings yet</td>\n",
       "      <td>True</td>\n",
       "      <td>Simple yet with great replayability. In my opi...</td>\n",
       "      <td>76561197970982479</td>\n",
       "      <td>http://steamcommunity.com/profiles/76561197970...</td>\n",
       "    </tr>\n",
       "    <tr>\n",
       "      <th>1</th>\n",
       "      <td></td>\n",
       "      <td>Posted July 15, 2011.</td>\n",
       "      <td></td>\n",
       "      <td>22200</td>\n",
       "      <td>No ratings yet</td>\n",
       "      <td>True</td>\n",
       "      <td>It's unique and worth a playthrough.</td>\n",
       "      <td>76561197970982479</td>\n",
       "      <td>http://steamcommunity.com/profiles/76561197970...</td>\n",
       "    </tr>\n",
       "    <tr>\n",
       "      <th>2</th>\n",
       "      <td></td>\n",
       "      <td>Posted April 21, 2011.</td>\n",
       "      <td></td>\n",
       "      <td>43110</td>\n",
       "      <td>No ratings yet</td>\n",
       "      <td>True</td>\n",
       "      <td>Great atmosphere. The gunplay can be a bit chu...</td>\n",
       "      <td>76561197970982479</td>\n",
       "      <td>http://steamcommunity.com/profiles/76561197970...</td>\n",
       "    </tr>\n",
       "    <tr>\n",
       "      <th>3</th>\n",
       "      <td></td>\n",
       "      <td>Posted June 24, 2014.</td>\n",
       "      <td></td>\n",
       "      <td>251610</td>\n",
       "      <td>15 of 20 people (75%) found this review helpful</td>\n",
       "      <td>True</td>\n",
       "      <td>I know what you think when you see this title ...</td>\n",
       "      <td>js41637</td>\n",
       "      <td>http://steamcommunity.com/id/js41637</td>\n",
       "    </tr>\n",
       "    <tr>\n",
       "      <th>4</th>\n",
       "      <td></td>\n",
       "      <td>Posted September 8, 2013.</td>\n",
       "      <td></td>\n",
       "      <td>227300</td>\n",
       "      <td>0 of 1 people (0%) found this review helpful</td>\n",
       "      <td>True</td>\n",
       "      <td>For a simple (it's actually not all that simpl...</td>\n",
       "      <td>js41637</td>\n",
       "      <td>http://steamcommunity.com/id/js41637</td>\n",
       "    </tr>\n",
       "  </tbody>\n",
       "</table>\n",
       "</div>"
      ],
      "text/plain": [
       "  funny                     posted last_edited item_id  \\\n",
       "0         Posted November 5, 2011.                1250   \n",
       "1            Posted July 15, 2011.               22200   \n",
       "2           Posted April 21, 2011.               43110   \n",
       "3            Posted June 24, 2014.              251610   \n",
       "4        Posted September 8, 2013.              227300   \n",
       "\n",
       "                                           helpful  recommend  \\\n",
       "0                                   No ratings yet       True   \n",
       "1                                   No ratings yet       True   \n",
       "2                                   No ratings yet       True   \n",
       "3  15 of 20 people (75%) found this review helpful       True   \n",
       "4     0 of 1 people (0%) found this review helpful       True   \n",
       "\n",
       "                                              review            user_id  \\\n",
       "0  Simple yet with great replayability. In my opi...  76561197970982479   \n",
       "1               It's unique and worth a playthrough.  76561197970982479   \n",
       "2  Great atmosphere. The gunplay can be a bit chu...  76561197970982479   \n",
       "3  I know what you think when you see this title ...            js41637   \n",
       "4  For a simple (it's actually not all that simpl...            js41637   \n",
       "\n",
       "                                            user_url  \n",
       "0  http://steamcommunity.com/profiles/76561197970...  \n",
       "1  http://steamcommunity.com/profiles/76561197970...  \n",
       "2  http://steamcommunity.com/profiles/76561197970...  \n",
       "3               http://steamcommunity.com/id/js41637  \n",
       "4               http://steamcommunity.com/id/js41637  "
      ]
     },
     "execution_count": 3,
     "metadata": {},
     "output_type": "execute_result"
    }
   ],
   "source": [
    "# Ver los primeros registros del DataFrame\n",
    "df_reviews.head()"
   ]
  },
  {
   "cell_type": "code",
   "execution_count": 4,
   "metadata": {},
   "outputs": [
    {
     "name": "stdout",
     "output_type": "stream",
     "text": [
      "<class 'pandas.core.frame.DataFrame'>\n",
      "RangeIndex: 59305 entries, 0 to 59304\n",
      "Data columns (total 9 columns):\n",
      " #   Column       Non-Null Count  Dtype \n",
      "---  ------       --------------  ----- \n",
      " 0   funny        59305 non-null  object\n",
      " 1   posted       59305 non-null  object\n",
      " 2   last_edited  59305 non-null  object\n",
      " 3   item_id      59305 non-null  object\n",
      " 4   helpful      59305 non-null  object\n",
      " 5   recommend    59305 non-null  bool  \n",
      " 6   review       59305 non-null  object\n",
      " 7   user_id      59305 non-null  object\n",
      " 8   user_url     59305 non-null  object\n",
      "dtypes: bool(1), object(8)\n",
      "memory usage: 3.7+ MB\n"
     ]
    }
   ],
   "source": [
    "# verificamos la informacion rapidamente: \n",
    "df_reviews.info()"
   ]
  },
  {
   "cell_type": "code",
   "execution_count": 5,
   "metadata": {},
   "outputs": [
    {
     "name": "stdout",
     "output_type": "stream",
     "text": [
      "<class 'pandas.core.frame.DataFrame'>\n",
      "RangeIndex: 59305 entries, 0 to 59304\n",
      "Data columns (total 9 columns):\n",
      " #   Column       Non-Null Count  Dtype \n",
      "---  ------       --------------  ----- \n",
      " 0   funny        59305 non-null  object\n",
      " 1   posted       59305 non-null  object\n",
      " 2   last_edited  59305 non-null  object\n",
      " 3   item_id      59305 non-null  object\n",
      " 4   helpful      59305 non-null  object\n",
      " 5   recommend    59305 non-null  bool  \n",
      " 6   review       59305 non-null  object\n",
      " 7   user_id      59305 non-null  object\n",
      " 8   user_url     59305 non-null  object\n",
      "dtypes: bool(1), object(8)\n",
      "memory usage: 3.7+ MB\n"
     ]
    }
   ],
   "source": [
    "df_reviews = df_reviews.dropna(thresh=2)\n",
    "df_reviews.info()"
   ]
  },
  {
   "cell_type": "code",
   "execution_count": 51,
   "metadata": {},
   "outputs": [],
   "source": [
    "df_reviews['item_id'] = df_reviews['item_id'].astype(int)"
   ]
  },
  {
   "cell_type": "code",
   "execution_count": 52,
   "metadata": {},
   "outputs": [
    {
     "name": "stdout",
     "output_type": "stream",
     "text": [
      "<class 'pandas.core.frame.DataFrame'>\n",
      "Index: 59280 entries, 0 to 59304\n",
      "Data columns (total 7 columns):\n",
      " #   Column              Non-Null Count  Dtype         \n",
      "---  ------              --------------  -----         \n",
      " 0   posted              59280 non-null  datetime64[ns]\n",
      " 1   item_id             59280 non-null  int32         \n",
      " 2   recommend           59280 non-null  bool          \n",
      " 3   review              59280 non-null  object        \n",
      " 4   user_id             59280 non-null  object        \n",
      " 5   user_url            59280 non-null  object        \n",
      " 6   sentiment_analysis  59280 non-null  int64         \n",
      "dtypes: bool(1), datetime64[ns](1), int32(1), int64(1), object(3)\n",
      "memory usage: 3.0+ MB\n"
     ]
    }
   ],
   "source": [
    "df_reviews.info()"
   ]
  },
  {
   "cell_type": "code",
   "execution_count": 7,
   "metadata": {},
   "outputs": [],
   "source": [
    "# Eliminamos las columnas que no nos serviran a los fines de nuestro análisis: \n",
    "\n",
    "df_reviews.drop(columns=['funny', 'last_edited', 'helpful'], inplace=True)"
   ]
  },
  {
   "cell_type": "code",
   "execution_count": 8,
   "metadata": {},
   "outputs": [],
   "source": [
    "# Procedemos a modificar el formato de la columna 'posted' para luego poder trabajar con ella:\n",
    "\n",
    "from dateutil import parser \n",
    "\n",
    "# Funcion para analizar la fecha y manejar errores: \n",
    "def parse_date(date_str): \n",
    "    try:\n",
    "        return parser.parse(date_str.replace(\"Posted \", \"\"), fuzzy = True)\n",
    "    except ValueError:\n",
    "        return None\n",
    "    \n",
    "# Aplicamos la funcion de analisis de fecha y reemplazamos las filas que tienen fechas incorrectas con NaN\n",
    "df_reviews['posted'] = df_reviews['posted'].apply(parse_date)\n",
    "\n",
    "# Además eliminamos esas filas que contengan valores NaN (ya que son fechas incorrectas y no nos servirán posteriormente en el análisis):\n",
    "df_reviews = df_reviews.dropna(subset=['posted'])\n"
   ]
  },
  {
   "cell_type": "code",
   "execution_count": 9,
   "metadata": {},
   "outputs": [
    {
     "data": {
      "text/html": [
       "<div>\n",
       "<style scoped>\n",
       "    .dataframe tbody tr th:only-of-type {\n",
       "        vertical-align: middle;\n",
       "    }\n",
       "\n",
       "    .dataframe tbody tr th {\n",
       "        vertical-align: top;\n",
       "    }\n",
       "\n",
       "    .dataframe thead th {\n",
       "        text-align: right;\n",
       "    }\n",
       "</style>\n",
       "<table border=\"1\" class=\"dataframe\">\n",
       "  <thead>\n",
       "    <tr style=\"text-align: right;\">\n",
       "      <th></th>\n",
       "      <th>posted</th>\n",
       "      <th>item_id</th>\n",
       "      <th>recommend</th>\n",
       "      <th>review</th>\n",
       "      <th>user_id</th>\n",
       "      <th>user_url</th>\n",
       "    </tr>\n",
       "  </thead>\n",
       "  <tbody>\n",
       "    <tr>\n",
       "      <th>0</th>\n",
       "      <td>2011-11-05</td>\n",
       "      <td>1250</td>\n",
       "      <td>True</td>\n",
       "      <td>Simple yet with great replayability. In my opi...</td>\n",
       "      <td>76561197970982479</td>\n",
       "      <td>http://steamcommunity.com/profiles/76561197970...</td>\n",
       "    </tr>\n",
       "    <tr>\n",
       "      <th>1</th>\n",
       "      <td>2011-07-15</td>\n",
       "      <td>22200</td>\n",
       "      <td>True</td>\n",
       "      <td>It's unique and worth a playthrough.</td>\n",
       "      <td>76561197970982479</td>\n",
       "      <td>http://steamcommunity.com/profiles/76561197970...</td>\n",
       "    </tr>\n",
       "    <tr>\n",
       "      <th>2</th>\n",
       "      <td>2011-04-21</td>\n",
       "      <td>43110</td>\n",
       "      <td>True</td>\n",
       "      <td>Great atmosphere. The gunplay can be a bit chu...</td>\n",
       "      <td>76561197970982479</td>\n",
       "      <td>http://steamcommunity.com/profiles/76561197970...</td>\n",
       "    </tr>\n",
       "    <tr>\n",
       "      <th>3</th>\n",
       "      <td>2014-06-24</td>\n",
       "      <td>251610</td>\n",
       "      <td>True</td>\n",
       "      <td>I know what you think when you see this title ...</td>\n",
       "      <td>js41637</td>\n",
       "      <td>http://steamcommunity.com/id/js41637</td>\n",
       "    </tr>\n",
       "    <tr>\n",
       "      <th>4</th>\n",
       "      <td>2013-09-08</td>\n",
       "      <td>227300</td>\n",
       "      <td>True</td>\n",
       "      <td>For a simple (it's actually not all that simpl...</td>\n",
       "      <td>js41637</td>\n",
       "      <td>http://steamcommunity.com/id/js41637</td>\n",
       "    </tr>\n",
       "  </tbody>\n",
       "</table>\n",
       "</div>"
      ],
      "text/plain": [
       "      posted item_id  recommend  \\\n",
       "0 2011-11-05    1250       True   \n",
       "1 2011-07-15   22200       True   \n",
       "2 2011-04-21   43110       True   \n",
       "3 2014-06-24  251610       True   \n",
       "4 2013-09-08  227300       True   \n",
       "\n",
       "                                              review            user_id  \\\n",
       "0  Simple yet with great replayability. In my opi...  76561197970982479   \n",
       "1               It's unique and worth a playthrough.  76561197970982479   \n",
       "2  Great atmosphere. The gunplay can be a bit chu...  76561197970982479   \n",
       "3  I know what you think when you see this title ...            js41637   \n",
       "4  For a simple (it's actually not all that simpl...            js41637   \n",
       "\n",
       "                                            user_url  \n",
       "0  http://steamcommunity.com/profiles/76561197970...  \n",
       "1  http://steamcommunity.com/profiles/76561197970...  \n",
       "2  http://steamcommunity.com/profiles/76561197970...  \n",
       "3               http://steamcommunity.com/id/js41637  \n",
       "4               http://steamcommunity.com/id/js41637  "
      ]
     },
     "execution_count": 9,
     "metadata": {},
     "output_type": "execute_result"
    }
   ],
   "source": [
    "df_reviews.head()"
   ]
  },
  {
   "cell_type": "markdown",
   "metadata": {},
   "source": [
    "# Importamos segundo dataset, Australian User Items\n"
   ]
  },
  {
   "cell_type": "code",
   "execution_count": 10,
   "metadata": {},
   "outputs": [],
   "source": [
    "data_list2 = []\n",
    "\n",
    "# Ruta del archivo JSON\n",
    "file_path2 = 'australian_users_items.json'\n",
    "\n",
    "# Abrir el archivo y procesar cada línea\n",
    "with open(file_path2, 'r', encoding='utf8') as file:\n",
    "    for line in file:\n",
    "        try:\n",
    "            # Usar ast.literal_eval para convertir la línea en un diccionario\n",
    "            json_data2 = ast.literal_eval(line)\n",
    "            data_list2.append(json_data2)\n",
    "        except ValueError as e:\n",
    "            print(f\"Error en la línea: {line}\")\n",
    "            continue\n",
    "\n",
    "# Crear un DataFrame a partir de la lista de diccionarios\n",
    "df_items = pd.json_normalize(data_list2, record_path='items', meta='user_id')"
   ]
  },
  {
   "cell_type": "code",
   "execution_count": 11,
   "metadata": {},
   "outputs": [
    {
     "data": {
      "text/html": [
       "<div>\n",
       "<style scoped>\n",
       "    .dataframe tbody tr th:only-of-type {\n",
       "        vertical-align: middle;\n",
       "    }\n",
       "\n",
       "    .dataframe tbody tr th {\n",
       "        vertical-align: top;\n",
       "    }\n",
       "\n",
       "    .dataframe thead th {\n",
       "        text-align: right;\n",
       "    }\n",
       "</style>\n",
       "<table border=\"1\" class=\"dataframe\">\n",
       "  <thead>\n",
       "    <tr style=\"text-align: right;\">\n",
       "      <th></th>\n",
       "      <th>item_id</th>\n",
       "      <th>item_name</th>\n",
       "      <th>playtime_forever</th>\n",
       "      <th>playtime_2weeks</th>\n",
       "      <th>user_id</th>\n",
       "    </tr>\n",
       "  </thead>\n",
       "  <tbody>\n",
       "    <tr>\n",
       "      <th>0</th>\n",
       "      <td>10</td>\n",
       "      <td>Counter-Strike</td>\n",
       "      <td>6</td>\n",
       "      <td>0</td>\n",
       "      <td>76561197970982479</td>\n",
       "    </tr>\n",
       "    <tr>\n",
       "      <th>1</th>\n",
       "      <td>20</td>\n",
       "      <td>Team Fortress Classic</td>\n",
       "      <td>0</td>\n",
       "      <td>0</td>\n",
       "      <td>76561197970982479</td>\n",
       "    </tr>\n",
       "    <tr>\n",
       "      <th>2</th>\n",
       "      <td>30</td>\n",
       "      <td>Day of Defeat</td>\n",
       "      <td>7</td>\n",
       "      <td>0</td>\n",
       "      <td>76561197970982479</td>\n",
       "    </tr>\n",
       "    <tr>\n",
       "      <th>3</th>\n",
       "      <td>40</td>\n",
       "      <td>Deathmatch Classic</td>\n",
       "      <td>0</td>\n",
       "      <td>0</td>\n",
       "      <td>76561197970982479</td>\n",
       "    </tr>\n",
       "    <tr>\n",
       "      <th>4</th>\n",
       "      <td>50</td>\n",
       "      <td>Half-Life: Opposing Force</td>\n",
       "      <td>0</td>\n",
       "      <td>0</td>\n",
       "      <td>76561197970982479</td>\n",
       "    </tr>\n",
       "  </tbody>\n",
       "</table>\n",
       "</div>"
      ],
      "text/plain": [
       "  item_id                  item_name  playtime_forever  playtime_2weeks  \\\n",
       "0      10             Counter-Strike                 6                0   \n",
       "1      20      Team Fortress Classic                 0                0   \n",
       "2      30              Day of Defeat                 7                0   \n",
       "3      40         Deathmatch Classic                 0                0   \n",
       "4      50  Half-Life: Opposing Force                 0                0   \n",
       "\n",
       "             user_id  \n",
       "0  76561197970982479  \n",
       "1  76561197970982479  \n",
       "2  76561197970982479  \n",
       "3  76561197970982479  \n",
       "4  76561197970982479  "
      ]
     },
     "execution_count": 11,
     "metadata": {},
     "output_type": "execute_result"
    }
   ],
   "source": [
    "# Ver los primeros registros del DataFrame\n",
    "df_items.head()"
   ]
  },
  {
   "cell_type": "code",
   "execution_count": 12,
   "metadata": {},
   "outputs": [],
   "source": [
    "# Dropeamos las columnas innecesarias\n",
    "df_items.drop(columns=['playtime_2weeks'], inplace=True) "
   ]
  },
  {
   "cell_type": "code",
   "execution_count": 13,
   "metadata": {},
   "outputs": [],
   "source": [
    "df_items['item_id'] = df_items['item_id'].astype('int32')\n"
   ]
  },
  {
   "cell_type": "code",
   "execution_count": 14,
   "metadata": {},
   "outputs": [],
   "source": [
    "# Eliminamos duplicados: \n",
    "df_items = df_items.drop_duplicates()"
   ]
  },
  {
   "cell_type": "code",
   "execution_count": 15,
   "metadata": {},
   "outputs": [
    {
     "name": "stdout",
     "output_type": "stream",
     "text": [
      "<class 'pandas.core.frame.DataFrame'>\n",
      "Index: 5094092 entries, 0 to 5153208\n",
      "Data columns (total 4 columns):\n",
      " #   Column            Dtype \n",
      "---  ------            ----- \n",
      " 0   item_id           int32 \n",
      " 1   item_name         object\n",
      " 2   playtime_forever  int64 \n",
      " 3   user_id           object\n",
      "dtypes: int32(1), int64(1), object(2)\n",
      "memory usage: 174.9+ MB\n"
     ]
    }
   ],
   "source": [
    "df_items.info()"
   ]
  },
  {
   "cell_type": "code",
   "execution_count": 16,
   "metadata": {},
   "outputs": [
    {
     "data": {
      "text/html": [
       "<div>\n",
       "<style scoped>\n",
       "    .dataframe tbody tr th:only-of-type {\n",
       "        vertical-align: middle;\n",
       "    }\n",
       "\n",
       "    .dataframe tbody tr th {\n",
       "        vertical-align: top;\n",
       "    }\n",
       "\n",
       "    .dataframe thead th {\n",
       "        text-align: right;\n",
       "    }\n",
       "</style>\n",
       "<table border=\"1\" class=\"dataframe\">\n",
       "  <thead>\n",
       "    <tr style=\"text-align: right;\">\n",
       "      <th></th>\n",
       "      <th>item_id</th>\n",
       "      <th>item_name</th>\n",
       "      <th>playtime_forever</th>\n",
       "      <th>user_id</th>\n",
       "    </tr>\n",
       "  </thead>\n",
       "  <tbody>\n",
       "    <tr>\n",
       "      <th>0</th>\n",
       "      <td>10</td>\n",
       "      <td>Counter-Strike</td>\n",
       "      <td>6</td>\n",
       "      <td>76561197970982479</td>\n",
       "    </tr>\n",
       "    <tr>\n",
       "      <th>1</th>\n",
       "      <td>20</td>\n",
       "      <td>Team Fortress Classic</td>\n",
       "      <td>0</td>\n",
       "      <td>76561197970982479</td>\n",
       "    </tr>\n",
       "    <tr>\n",
       "      <th>2</th>\n",
       "      <td>30</td>\n",
       "      <td>Day of Defeat</td>\n",
       "      <td>7</td>\n",
       "      <td>76561197970982479</td>\n",
       "    </tr>\n",
       "    <tr>\n",
       "      <th>3</th>\n",
       "      <td>40</td>\n",
       "      <td>Deathmatch Classic</td>\n",
       "      <td>0</td>\n",
       "      <td>76561197970982479</td>\n",
       "    </tr>\n",
       "    <tr>\n",
       "      <th>4</th>\n",
       "      <td>50</td>\n",
       "      <td>Half-Life: Opposing Force</td>\n",
       "      <td>0</td>\n",
       "      <td>76561197970982479</td>\n",
       "    </tr>\n",
       "  </tbody>\n",
       "</table>\n",
       "</div>"
      ],
      "text/plain": [
       "   item_id                  item_name  playtime_forever            user_id\n",
       "0       10             Counter-Strike                 6  76561197970982479\n",
       "1       20      Team Fortress Classic                 0  76561197970982479\n",
       "2       30              Day of Defeat                 7  76561197970982479\n",
       "3       40         Deathmatch Classic                 0  76561197970982479\n",
       "4       50  Half-Life: Opposing Force                 0  76561197970982479"
      ]
     },
     "execution_count": 16,
     "metadata": {},
     "output_type": "execute_result"
    }
   ],
   "source": [
    "df_items.head()"
   ]
  },
  {
   "cell_type": "code",
   "execution_count": 17,
   "metadata": {},
   "outputs": [],
   "source": [
    "# filas_con_none = df_items.isna().sum(axis=1)\n",
    "\n",
    "# Filtrar el DataFrame original para obtener filas con más de 3 'None'\n",
    "# filas_mas_de_3_none = df_items[filas_con_none > 3]\n",
    "# filas_mas_de_3_none\n",
    "# ejecutamos esto y vemos que no hay registros que tengan mas de 3 columnas con None. "
   ]
  },
  {
   "cell_type": "markdown",
   "metadata": {},
   "source": [
    "# Importamos tercer dataset, Output Steam Games\n"
   ]
  },
  {
   "cell_type": "code",
   "execution_count": 18,
   "metadata": {},
   "outputs": [],
   "source": [
    "df_games = pd.read_json('output_steam_games.json', lines=True)"
   ]
  },
  {
   "cell_type": "code",
   "execution_count": 19,
   "metadata": {},
   "outputs": [
    {
     "data": {
      "text/html": [
       "<div>\n",
       "<style scoped>\n",
       "    .dataframe tbody tr th:only-of-type {\n",
       "        vertical-align: middle;\n",
       "    }\n",
       "\n",
       "    .dataframe tbody tr th {\n",
       "        vertical-align: top;\n",
       "    }\n",
       "\n",
       "    .dataframe thead th {\n",
       "        text-align: right;\n",
       "    }\n",
       "</style>\n",
       "<table border=\"1\" class=\"dataframe\">\n",
       "  <thead>\n",
       "    <tr style=\"text-align: right;\">\n",
       "      <th></th>\n",
       "      <th>publisher</th>\n",
       "      <th>genres</th>\n",
       "      <th>app_name</th>\n",
       "      <th>title</th>\n",
       "      <th>url</th>\n",
       "      <th>release_date</th>\n",
       "      <th>tags</th>\n",
       "      <th>reviews_url</th>\n",
       "      <th>specs</th>\n",
       "      <th>price</th>\n",
       "      <th>early_access</th>\n",
       "      <th>id</th>\n",
       "      <th>developer</th>\n",
       "    </tr>\n",
       "  </thead>\n",
       "  <tbody>\n",
       "    <tr>\n",
       "      <th>0</th>\n",
       "      <td>None</td>\n",
       "      <td>None</td>\n",
       "      <td>None</td>\n",
       "      <td>None</td>\n",
       "      <td>None</td>\n",
       "      <td>None</td>\n",
       "      <td>None</td>\n",
       "      <td>None</td>\n",
       "      <td>None</td>\n",
       "      <td>None</td>\n",
       "      <td>NaN</td>\n",
       "      <td>NaN</td>\n",
       "      <td>None</td>\n",
       "    </tr>\n",
       "    <tr>\n",
       "      <th>1</th>\n",
       "      <td>None</td>\n",
       "      <td>None</td>\n",
       "      <td>None</td>\n",
       "      <td>None</td>\n",
       "      <td>None</td>\n",
       "      <td>None</td>\n",
       "      <td>None</td>\n",
       "      <td>None</td>\n",
       "      <td>None</td>\n",
       "      <td>None</td>\n",
       "      <td>NaN</td>\n",
       "      <td>NaN</td>\n",
       "      <td>None</td>\n",
       "    </tr>\n",
       "    <tr>\n",
       "      <th>2</th>\n",
       "      <td>None</td>\n",
       "      <td>None</td>\n",
       "      <td>None</td>\n",
       "      <td>None</td>\n",
       "      <td>None</td>\n",
       "      <td>None</td>\n",
       "      <td>None</td>\n",
       "      <td>None</td>\n",
       "      <td>None</td>\n",
       "      <td>None</td>\n",
       "      <td>NaN</td>\n",
       "      <td>NaN</td>\n",
       "      <td>None</td>\n",
       "    </tr>\n",
       "    <tr>\n",
       "      <th>3</th>\n",
       "      <td>None</td>\n",
       "      <td>None</td>\n",
       "      <td>None</td>\n",
       "      <td>None</td>\n",
       "      <td>None</td>\n",
       "      <td>None</td>\n",
       "      <td>None</td>\n",
       "      <td>None</td>\n",
       "      <td>None</td>\n",
       "      <td>None</td>\n",
       "      <td>NaN</td>\n",
       "      <td>NaN</td>\n",
       "      <td>None</td>\n",
       "    </tr>\n",
       "    <tr>\n",
       "      <th>4</th>\n",
       "      <td>None</td>\n",
       "      <td>None</td>\n",
       "      <td>None</td>\n",
       "      <td>None</td>\n",
       "      <td>None</td>\n",
       "      <td>None</td>\n",
       "      <td>None</td>\n",
       "      <td>None</td>\n",
       "      <td>None</td>\n",
       "      <td>None</td>\n",
       "      <td>NaN</td>\n",
       "      <td>NaN</td>\n",
       "      <td>None</td>\n",
       "    </tr>\n",
       "  </tbody>\n",
       "</table>\n",
       "</div>"
      ],
      "text/plain": [
       "  publisher genres app_name title   url release_date  tags reviews_url specs  \\\n",
       "0      None   None     None  None  None         None  None        None  None   \n",
       "1      None   None     None  None  None         None  None        None  None   \n",
       "2      None   None     None  None  None         None  None        None  None   \n",
       "3      None   None     None  None  None         None  None        None  None   \n",
       "4      None   None     None  None  None         None  None        None  None   \n",
       "\n",
       "  price  early_access  id developer  \n",
       "0  None           NaN NaN      None  \n",
       "1  None           NaN NaN      None  \n",
       "2  None           NaN NaN      None  \n",
       "3  None           NaN NaN      None  \n",
       "4  None           NaN NaN      None  "
      ]
     },
     "execution_count": 19,
     "metadata": {},
     "output_type": "execute_result"
    }
   ],
   "source": [
    "# Ver los primeros registros del DataFrame\n",
    "df_games.head()"
   ]
  },
  {
   "cell_type": "code",
   "execution_count": 20,
   "metadata": {},
   "outputs": [
    {
     "data": {
      "text/html": [
       "<div>\n",
       "<style scoped>\n",
       "    .dataframe tbody tr th:only-of-type {\n",
       "        vertical-align: middle;\n",
       "    }\n",
       "\n",
       "    .dataframe tbody tr th {\n",
       "        vertical-align: top;\n",
       "    }\n",
       "\n",
       "    .dataframe thead th {\n",
       "        text-align: right;\n",
       "    }\n",
       "</style>\n",
       "<table border=\"1\" class=\"dataframe\">\n",
       "  <thead>\n",
       "    <tr style=\"text-align: right;\">\n",
       "      <th></th>\n",
       "      <th>publisher</th>\n",
       "      <th>genres</th>\n",
       "      <th>app_name</th>\n",
       "      <th>title</th>\n",
       "      <th>url</th>\n",
       "      <th>release_date</th>\n",
       "      <th>tags</th>\n",
       "      <th>reviews_url</th>\n",
       "      <th>specs</th>\n",
       "      <th>price</th>\n",
       "      <th>early_access</th>\n",
       "      <th>id</th>\n",
       "      <th>developer</th>\n",
       "    </tr>\n",
       "  </thead>\n",
       "  <tbody>\n",
       "    <tr>\n",
       "      <th>88310</th>\n",
       "      <td>Kotoshiro</td>\n",
       "      <td>[Action, Casual, Indie, Simulation, Strategy]</td>\n",
       "      <td>Lost Summoner Kitty</td>\n",
       "      <td>Lost Summoner Kitty</td>\n",
       "      <td>http://store.steampowered.com/app/761140/Lost_...</td>\n",
       "      <td>2018-01-04</td>\n",
       "      <td>[Strategy, Action, Indie, Casual, Simulation]</td>\n",
       "      <td>http://steamcommunity.com/app/761140/reviews/?...</td>\n",
       "      <td>[Single-player]</td>\n",
       "      <td>4.99</td>\n",
       "      <td>0.0</td>\n",
       "      <td>761140.0</td>\n",
       "      <td>Kotoshiro</td>\n",
       "    </tr>\n",
       "    <tr>\n",
       "      <th>88311</th>\n",
       "      <td>Making Fun, Inc.</td>\n",
       "      <td>[Free to Play, Indie, RPG, Strategy]</td>\n",
       "      <td>Ironbound</td>\n",
       "      <td>Ironbound</td>\n",
       "      <td>http://store.steampowered.com/app/643980/Ironb...</td>\n",
       "      <td>2018-01-04</td>\n",
       "      <td>[Free to Play, Strategy, Indie, RPG, Card Game...</td>\n",
       "      <td>http://steamcommunity.com/app/643980/reviews/?...</td>\n",
       "      <td>[Single-player, Multi-player, Online Multi-Pla...</td>\n",
       "      <td>Free To Play</td>\n",
       "      <td>0.0</td>\n",
       "      <td>643980.0</td>\n",
       "      <td>Secret Level SRL</td>\n",
       "    </tr>\n",
       "    <tr>\n",
       "      <th>88312</th>\n",
       "      <td>Poolians.com</td>\n",
       "      <td>[Casual, Free to Play, Indie, Simulation, Sports]</td>\n",
       "      <td>Real Pool 3D - Poolians</td>\n",
       "      <td>Real Pool 3D - Poolians</td>\n",
       "      <td>http://store.steampowered.com/app/670290/Real_...</td>\n",
       "      <td>2017-07-24</td>\n",
       "      <td>[Free to Play, Simulation, Sports, Casual, Ind...</td>\n",
       "      <td>http://steamcommunity.com/app/670290/reviews/?...</td>\n",
       "      <td>[Single-player, Multi-player, Online Multi-Pla...</td>\n",
       "      <td>Free to Play</td>\n",
       "      <td>0.0</td>\n",
       "      <td>670290.0</td>\n",
       "      <td>Poolians.com</td>\n",
       "    </tr>\n",
       "    <tr>\n",
       "      <th>88313</th>\n",
       "      <td>彼岸领域</td>\n",
       "      <td>[Action, Adventure, Casual]</td>\n",
       "      <td>弹炸人2222</td>\n",
       "      <td>弹炸人2222</td>\n",
       "      <td>http://store.steampowered.com/app/767400/2222/</td>\n",
       "      <td>2017-12-07</td>\n",
       "      <td>[Action, Adventure, Casual]</td>\n",
       "      <td>http://steamcommunity.com/app/767400/reviews/?...</td>\n",
       "      <td>[Single-player]</td>\n",
       "      <td>0.99</td>\n",
       "      <td>0.0</td>\n",
       "      <td>767400.0</td>\n",
       "      <td>彼岸领域</td>\n",
       "    </tr>\n",
       "    <tr>\n",
       "      <th>88314</th>\n",
       "      <td>None</td>\n",
       "      <td>None</td>\n",
       "      <td>Log Challenge</td>\n",
       "      <td>None</td>\n",
       "      <td>http://store.steampowered.com/app/773570/Log_C...</td>\n",
       "      <td>None</td>\n",
       "      <td>[Action, Indie, Casual, Sports]</td>\n",
       "      <td>http://steamcommunity.com/app/773570/reviews/?...</td>\n",
       "      <td>[Single-player, Full controller support, HTC V...</td>\n",
       "      <td>2.99</td>\n",
       "      <td>0.0</td>\n",
       "      <td>773570.0</td>\n",
       "      <td>None</td>\n",
       "    </tr>\n",
       "  </tbody>\n",
       "</table>\n",
       "</div>"
      ],
      "text/plain": [
       "              publisher                                             genres  \\\n",
       "88310         Kotoshiro      [Action, Casual, Indie, Simulation, Strategy]   \n",
       "88311  Making Fun, Inc.               [Free to Play, Indie, RPG, Strategy]   \n",
       "88312      Poolians.com  [Casual, Free to Play, Indie, Simulation, Sports]   \n",
       "88313              彼岸领域                        [Action, Adventure, Casual]   \n",
       "88314              None                                               None   \n",
       "\n",
       "                      app_name                    title  \\\n",
       "88310      Lost Summoner Kitty      Lost Summoner Kitty   \n",
       "88311                Ironbound                Ironbound   \n",
       "88312  Real Pool 3D - Poolians  Real Pool 3D - Poolians   \n",
       "88313                  弹炸人2222                  弹炸人2222   \n",
       "88314            Log Challenge                     None   \n",
       "\n",
       "                                                     url release_date  \\\n",
       "88310  http://store.steampowered.com/app/761140/Lost_...   2018-01-04   \n",
       "88311  http://store.steampowered.com/app/643980/Ironb...   2018-01-04   \n",
       "88312  http://store.steampowered.com/app/670290/Real_...   2017-07-24   \n",
       "88313     http://store.steampowered.com/app/767400/2222/   2017-12-07   \n",
       "88314  http://store.steampowered.com/app/773570/Log_C...         None   \n",
       "\n",
       "                                                    tags  \\\n",
       "88310      [Strategy, Action, Indie, Casual, Simulation]   \n",
       "88311  [Free to Play, Strategy, Indie, RPG, Card Game...   \n",
       "88312  [Free to Play, Simulation, Sports, Casual, Ind...   \n",
       "88313                        [Action, Adventure, Casual]   \n",
       "88314                    [Action, Indie, Casual, Sports]   \n",
       "\n",
       "                                             reviews_url  \\\n",
       "88310  http://steamcommunity.com/app/761140/reviews/?...   \n",
       "88311  http://steamcommunity.com/app/643980/reviews/?...   \n",
       "88312  http://steamcommunity.com/app/670290/reviews/?...   \n",
       "88313  http://steamcommunity.com/app/767400/reviews/?...   \n",
       "88314  http://steamcommunity.com/app/773570/reviews/?...   \n",
       "\n",
       "                                                   specs         price  \\\n",
       "88310                                    [Single-player]          4.99   \n",
       "88311  [Single-player, Multi-player, Online Multi-Pla...  Free To Play   \n",
       "88312  [Single-player, Multi-player, Online Multi-Pla...  Free to Play   \n",
       "88313                                    [Single-player]          0.99   \n",
       "88314  [Single-player, Full controller support, HTC V...          2.99   \n",
       "\n",
       "       early_access        id         developer  \n",
       "88310           0.0  761140.0         Kotoshiro  \n",
       "88311           0.0  643980.0  Secret Level SRL  \n",
       "88312           0.0  670290.0      Poolians.com  \n",
       "88313           0.0  767400.0              彼岸领域  \n",
       "88314           0.0  773570.0              None  "
      ]
     },
     "execution_count": 20,
     "metadata": {},
     "output_type": "execute_result"
    }
   ],
   "source": [
    "df_games = df_games.dropna(thresh=5)\n",
    "df_games.head()"
   ]
  },
  {
   "cell_type": "code",
   "execution_count": 21,
   "metadata": {},
   "outputs": [
    {
     "data": {
      "text/plain": [
       "Index(['publisher', 'genres', 'app_name', 'title', 'url', 'release_date',\n",
       "       'tags', 'reviews_url', 'specs', 'price', 'early_access', 'id',\n",
       "       'developer'],\n",
       "      dtype='object')"
      ]
     },
     "execution_count": 21,
     "metadata": {},
     "output_type": "execute_result"
    }
   ],
   "source": [
    "df_games.columns"
   ]
  },
  {
   "cell_type": "code",
   "execution_count": 22,
   "metadata": {},
   "outputs": [],
   "source": [
    "# Borramos las columnas que no nos servirán a los fines de nuestor análisis: \n",
    "\n",
    "df_games.drop(columns=['reviews_url', 'specs', 'early_access','app_name','publisher'], inplace=True) \n"
   ]
  },
  {
   "cell_type": "code",
   "execution_count": 23,
   "metadata": {},
   "outputs": [
    {
     "name": "stdout",
     "output_type": "stream",
     "text": [
      "<class 'pandas.core.frame.DataFrame'>\n",
      "Index: 32134 entries, 88310 to 120444\n",
      "Data columns (total 8 columns):\n",
      " #   Column        Non-Null Count  Dtype  \n",
      "---  ------        --------------  -----  \n",
      " 0   genres        28852 non-null  object \n",
      " 1   title         30085 non-null  object \n",
      " 2   url           32134 non-null  object \n",
      " 3   release_date  30068 non-null  object \n",
      " 4   tags          31972 non-null  object \n",
      " 5   price         30757 non-null  object \n",
      " 6   id            32133 non-null  float64\n",
      " 7   developer     28836 non-null  object \n",
      "dtypes: float64(1), object(7)\n",
      "memory usage: 2.2+ MB\n"
     ]
    }
   ],
   "source": [
    "df_games.info()"
   ]
  },
  {
   "cell_type": "code",
   "execution_count": 24,
   "metadata": {},
   "outputs": [],
   "source": [
    "# Procedemos a modificar el formato de las fechas de la columna 'release date' para luego poder trabajar con ella:\n",
    "\n",
    "df_games['release_date'] = pd.to_datetime(df_games['release_date'], format='%Y-%m-%d', errors='coerce')"
   ]
  },
  {
   "cell_type": "code",
   "execution_count": 25,
   "metadata": {},
   "outputs": [],
   "source": [
    "# Convertimos en 0 los registros que no tengan ID: \n",
    "df_games['id'] = df_games['id'].fillna(0).astype(int)"
   ]
  },
  {
   "cell_type": "code",
   "execution_count": 26,
   "metadata": {},
   "outputs": [],
   "source": [
    "# Ahora convertimos todos los ID en enteros, para poder trabajar mejor: \n",
    "df_games['id'] = df_games['id'].astype(int)"
   ]
  },
  {
   "cell_type": "code",
   "execution_count": 50,
   "metadata": {},
   "outputs": [
    {
     "data": {
      "text/html": [
       "<div>\n",
       "<style scoped>\n",
       "    .dataframe tbody tr th:only-of-type {\n",
       "        vertical-align: middle;\n",
       "    }\n",
       "\n",
       "    .dataframe tbody tr th {\n",
       "        vertical-align: top;\n",
       "    }\n",
       "\n",
       "    .dataframe thead th {\n",
       "        text-align: right;\n",
       "    }\n",
       "</style>\n",
       "<table border=\"1\" class=\"dataframe\">\n",
       "  <thead>\n",
       "    <tr style=\"text-align: right;\">\n",
       "      <th></th>\n",
       "      <th>genres</th>\n",
       "      <th>title</th>\n",
       "      <th>url</th>\n",
       "      <th>release_date</th>\n",
       "      <th>tags</th>\n",
       "      <th>price</th>\n",
       "      <th>id</th>\n",
       "      <th>developer</th>\n",
       "    </tr>\n",
       "  </thead>\n",
       "  <tbody>\n",
       "    <tr>\n",
       "      <th>88310</th>\n",
       "      <td>['Action', 'Casual', 'Indie', 'Simulation', 'S...</td>\n",
       "      <td>Lost Summoner Kitty</td>\n",
       "      <td>http://store.steampowered.com/app/761140/Lost_...</td>\n",
       "      <td>2018-01-04</td>\n",
       "      <td>[Strategy, Action, Indie, Casual, Simulation]</td>\n",
       "      <td>4.99</td>\n",
       "      <td>761140</td>\n",
       "      <td>Kotoshiro</td>\n",
       "    </tr>\n",
       "    <tr>\n",
       "      <th>88311</th>\n",
       "      <td>['Free to Play', 'Indie', 'RPG', 'Strategy']</td>\n",
       "      <td>Ironbound</td>\n",
       "      <td>http://store.steampowered.com/app/643980/Ironb...</td>\n",
       "      <td>2018-01-04</td>\n",
       "      <td>[Free to Play, Strategy, Indie, RPG, Card Game...</td>\n",
       "      <td>Free To Play</td>\n",
       "      <td>643980</td>\n",
       "      <td>Secret Level SRL</td>\n",
       "    </tr>\n",
       "    <tr>\n",
       "      <th>88312</th>\n",
       "      <td>['Casual', 'Free to Play', 'Indie', 'Simulatio...</td>\n",
       "      <td>Real Pool 3D - Poolians</td>\n",
       "      <td>http://store.steampowered.com/app/670290/Real_...</td>\n",
       "      <td>2017-07-24</td>\n",
       "      <td>[Free to Play, Simulation, Sports, Casual, Ind...</td>\n",
       "      <td>Free to Play</td>\n",
       "      <td>670290</td>\n",
       "      <td>Poolians.com</td>\n",
       "    </tr>\n",
       "    <tr>\n",
       "      <th>88313</th>\n",
       "      <td>['Action', 'Adventure', 'Casual']</td>\n",
       "      <td>弹炸人2222</td>\n",
       "      <td>http://store.steampowered.com/app/767400/2222/</td>\n",
       "      <td>2017-12-07</td>\n",
       "      <td>[Action, Adventure, Casual]</td>\n",
       "      <td>0.99</td>\n",
       "      <td>767400</td>\n",
       "      <td>彼岸领域</td>\n",
       "    </tr>\n",
       "    <tr>\n",
       "      <th>88314</th>\n",
       "      <td>None</td>\n",
       "      <td>None</td>\n",
       "      <td>http://store.steampowered.com/app/773570/Log_C...</td>\n",
       "      <td>NaT</td>\n",
       "      <td>[Action, Indie, Casual, Sports]</td>\n",
       "      <td>2.99</td>\n",
       "      <td>773570</td>\n",
       "      <td>None</td>\n",
       "    </tr>\n",
       "  </tbody>\n",
       "</table>\n",
       "</div>"
      ],
      "text/plain": [
       "                                                  genres  \\\n",
       "88310  ['Action', 'Casual', 'Indie', 'Simulation', 'S...   \n",
       "88311       ['Free to Play', 'Indie', 'RPG', 'Strategy']   \n",
       "88312  ['Casual', 'Free to Play', 'Indie', 'Simulatio...   \n",
       "88313                  ['Action', 'Adventure', 'Casual']   \n",
       "88314                                               None   \n",
       "\n",
       "                         title  \\\n",
       "88310      Lost Summoner Kitty   \n",
       "88311                Ironbound   \n",
       "88312  Real Pool 3D - Poolians   \n",
       "88313                  弹炸人2222   \n",
       "88314                     None   \n",
       "\n",
       "                                                     url release_date  \\\n",
       "88310  http://store.steampowered.com/app/761140/Lost_...   2018-01-04   \n",
       "88311  http://store.steampowered.com/app/643980/Ironb...   2018-01-04   \n",
       "88312  http://store.steampowered.com/app/670290/Real_...   2017-07-24   \n",
       "88313     http://store.steampowered.com/app/767400/2222/   2017-12-07   \n",
       "88314  http://store.steampowered.com/app/773570/Log_C...          NaT   \n",
       "\n",
       "                                                    tags         price  \\\n",
       "88310      [Strategy, Action, Indie, Casual, Simulation]          4.99   \n",
       "88311  [Free to Play, Strategy, Indie, RPG, Card Game...  Free To Play   \n",
       "88312  [Free to Play, Simulation, Sports, Casual, Ind...  Free to Play   \n",
       "88313                        [Action, Adventure, Casual]          0.99   \n",
       "88314                    [Action, Indie, Casual, Sports]          2.99   \n",
       "\n",
       "           id         developer  \n",
       "88310  761140         Kotoshiro  \n",
       "88311  643980  Secret Level SRL  \n",
       "88312  670290      Poolians.com  \n",
       "88313  767400              彼岸领域  \n",
       "88314  773570              None  "
      ]
     },
     "execution_count": 50,
     "metadata": {},
     "output_type": "execute_result"
    }
   ],
   "source": [
    "df_games.head()"
   ]
  },
  {
   "cell_type": "markdown",
   "metadata": {},
   "source": [
    "Sobre las reseñas de juegos hechos por distintos usuarios, las cuales se encuentran en el dataset 'user_reviews', procedemos a aplicar el Análisis de sentimiento con NLP. \n",
    "Como fue ordenado, se debe tomar el valor '0' si el review es malo, '1' si es neutral y '2' si es positivo. En el caso de no ser posible este análisis por estar ausente la reseña escrita, debe tomar el valor de 1."
   ]
  },
  {
   "cell_type": "code",
   "execution_count": 28,
   "metadata": {},
   "outputs": [
    {
     "name": "stdout",
     "output_type": "stream",
     "text": [
      "          posted item_id  recommend  \\\n",
      "0     2011-11-05    1250       True   \n",
      "1     2011-07-15   22200       True   \n",
      "2     2011-04-21   43110       True   \n",
      "3     2014-06-24  251610       True   \n",
      "4     2013-09-08  227300       True   \n",
      "...          ...     ...        ...   \n",
      "59300 2023-07-10      70       True   \n",
      "59301 2023-07-08  362890       True   \n",
      "59302 2023-07-03  273110       True   \n",
      "59303 2023-07-20     730       True   \n",
      "59304 2023-07-02     440       True   \n",
      "\n",
      "                                                  review            user_id  \\\n",
      "0      Simple yet with great replayability. In my opi...  76561197970982479   \n",
      "1                   It's unique and worth a playthrough.  76561197970982479   \n",
      "2      Great atmosphere. The gunplay can be a bit chu...  76561197970982479   \n",
      "3      I know what you think when you see this title ...            js41637   \n",
      "4      For a simple (it's actually not all that simpl...            js41637   \n",
      "...                                                  ...                ...   \n",
      "59300  a must have classic from steam definitely wort...  76561198312638244   \n",
      "59301  this game is a perfect remake of the original ...  76561198312638244   \n",
      "59302  had so much fun plaing this and collecting res...        LydiaMorley   \n",
      "59303                                                 :D        LydiaMorley   \n",
      "59304                                     so much fun :D        LydiaMorley   \n",
      "\n",
      "                                                user_url  sentiment_analysis  \n",
      "0      http://steamcommunity.com/profiles/76561197970...                   1  \n",
      "1      http://steamcommunity.com/profiles/76561197970...                   2  \n",
      "2      http://steamcommunity.com/profiles/76561197970...                   1  \n",
      "3                   http://steamcommunity.com/id/js41637                   1  \n",
      "4                   http://steamcommunity.com/id/js41637                   1  \n",
      "...                                                  ...                 ...  \n",
      "59300  http://steamcommunity.com/profiles/76561198312...                   2  \n",
      "59301  http://steamcommunity.com/profiles/76561198312...                   1  \n",
      "59302           http://steamcommunity.com/id/LydiaMorley                   1  \n",
      "59303           http://steamcommunity.com/id/LydiaMorley                   2  \n",
      "59304           http://steamcommunity.com/id/LydiaMorley                   2  \n",
      "\n",
      "[59280 rows x 7 columns]\n"
     ]
    }
   ],
   "source": [
    "from textblob import TextBlob\n",
    "\n",
    "# Función para realizar el análisis de sentimiento y asignar valores\n",
    "def analyze_sentiment(text):\n",
    "    if pd.isna(text):  # Verificar si el texto está ausente\n",
    "        return 1  # Fijamos en 1 el valor que devolverá si el texto está ausente\n",
    "    else:\n",
    "        blob = TextBlob(text)\n",
    "        sentiment = blob.sentiment.polarity\n",
    "        # utilizamos un umbral de +- 0.2 para tener una clasificación más refinada\n",
    "        # y distinguir entre reseñas ligeramente positivas o negativas y las que son claramente positivas o negativas: \n",
    "        if sentiment < -0.2:  # Valor negativo, consideramos que es 'malo'\n",
    "            return 0\n",
    "        elif sentiment > 0.2:  # Valor positivo, consideramos que es 'positivo'\n",
    "            return 2\n",
    "        else:  # Valor neutral\n",
    "            return 1\n",
    "\n",
    "# Aplicar la función a la columna 'review' y reemplazarla con una nueva columna de nombre 'sentiment_analysis'\n",
    "df_reviews['sentiment_analysis'] = df_reviews['review'].apply(analyze_sentiment)\n",
    "\n",
    "# Mostrar el DataFrame resultante\n",
    "print(df_reviews)"
   ]
  },
  {
   "cell_type": "code",
   "execution_count": 29,
   "metadata": {},
   "outputs": [
    {
     "name": "stdout",
     "output_type": "stream",
     "text": [
      "<class 'pandas.core.frame.DataFrame'>\n",
      "Index: 59280 entries, 0 to 59304\n",
      "Data columns (total 7 columns):\n",
      " #   Column              Non-Null Count  Dtype         \n",
      "---  ------              --------------  -----         \n",
      " 0   posted              59280 non-null  datetime64[ns]\n",
      " 1   item_id             59280 non-null  object        \n",
      " 2   recommend           59280 non-null  bool          \n",
      " 3   review              59280 non-null  object        \n",
      " 4   user_id             59280 non-null  object        \n",
      " 5   user_url            59280 non-null  object        \n",
      " 6   sentiment_analysis  59280 non-null  int64         \n",
      "dtypes: bool(1), datetime64[ns](1), int64(1), object(4)\n",
      "memory usage: 3.2+ MB\n"
     ]
    }
   ],
   "source": [
    "df_reviews.info()"
   ]
  },
  {
   "cell_type": "code",
   "execution_count": 30,
   "metadata": {},
   "outputs": [
    {
     "name": "stdout",
     "output_type": "stream",
     "text": [
      "Número de filas con valor 0: 5199\n",
      "Número de filas con valor 1: 36440\n",
      "Número de filas con valor 2: 17641\n",
      "Total puntuadas: 59280\n"
     ]
    }
   ],
   "source": [
    "# Verificamos que hayan sido puntuadas todas las filas: \n",
    "\n",
    "count_0 = (df_reviews['sentiment_analysis'] == 0).sum()\n",
    "count_1 = (df_reviews['sentiment_analysis'] == 1).sum()\n",
    "count_2 = (df_reviews['sentiment_analysis'] == 2).sum()\n",
    "\n",
    "print(f\"Número de filas con valor 0: {count_0}\")\n",
    "print(f\"Número de filas con valor 1: {count_1}\")\n",
    "print(f\"Número de filas con valor 2: {count_2}\")\n",
    "print(f\"Total puntuadas: {count_0 + count_1 + count_2}\")\n"
   ]
  },
  {
   "cell_type": "markdown",
   "metadata": {},
   "source": [
    "PRIMERA FUNCION: def PlayTimeGenre( genero : str ): Debe devolver año con mas horas jugadas para dicho género."
   ]
  },
  {
   "cell_type": "code",
   "execution_count": 31,
   "metadata": {},
   "outputs": [],
   "source": [
    "# Primero definimos una función para convertir un objeto en una cadena de texto:\n",
    "def ensure_string2(obj):\n",
    "    if isinstance(obj, str):\n",
    "        # Intenta evaluar la cadena como una lista\n",
    "        try:\n",
    "            obj_list = ast.literal_eval(obj)\n",
    "            if isinstance(obj_list, list):\n",
    "                return ', '.join(obj_list)\n",
    "        except ValueError:\n",
    "            pass\n",
    "    # Si no podemos evaluarlo como una lista, simplemente lo dejamos como está\n",
    "    return str(obj)"
   ]
  },
  {
   "cell_type": "code",
   "execution_count": 32,
   "metadata": {},
   "outputs": [],
   "source": [
    "# aplicamos la funcion:\n",
    "df_games['genres'] = df_games['genres'].apply(ensure_string2)"
   ]
  },
  {
   "cell_type": "code",
   "execution_count": 33,
   "metadata": {},
   "outputs": [],
   "source": [
    "# Ahora si redactamos la funcion solicitada: \n",
    "def PlayTimeGenre(genero= str):\n",
    "    \n",
    "    global df_games\n",
    "    global df_items\n",
    "   \n",
    "    games_filtered = df_games[df_games['genres'].str.contains(genero, case=False, na=False)]\n",
    "    \n",
    "    # Filter df_items to obtain rows with similar item_id\n",
    "    \n",
    "    merged_df = pd.merge(df_items, games_filtered, left_on='item_id', right_on= 'id', how= 'inner')\n",
    "    merged_df['release_date'] = pd.to_datetime(merged_df['release_date'])\n",
    "    merged_df['release_year'] = merged_df['release_date'].dt.year\n",
    "    \n",
    "    grouped = merged_df.groupby('release_year')['playtime_forever'].sum()\n",
    "    \n",
    "    max_year = grouped.idxmax()\n",
    "    \n",
    "    return f\"{{'Año con más horas jugadas para Género {genero}': {int(max_year)}}}\""
   ]
  },
  {
   "cell_type": "code",
   "execution_count": 34,
   "metadata": {},
   "outputs": [
    {
     "name": "stdout",
     "output_type": "stream",
     "text": [
      "{'Año con más horas jugadas para Género Adventure': 2011}\n"
     ]
    }
   ],
   "source": [
    "resultado = PlayTimeGenre('Adventure')\n",
    "print(resultado)"
   ]
  },
  {
   "cell_type": "markdown",
   "metadata": {},
   "source": [
    "SEGUNDA FUNCION: def UserForGenre( genero : str ): Debe devolver el usuario que acumula más horas jugadas para el género dado y una lista de la acumulación de horas jugadas por año."
   ]
  },
  {
   "cell_type": "code",
   "execution_count": 35,
   "metadata": {},
   "outputs": [],
   "source": [
    "def UserForGenre(genero: str):\n",
    "    global df_games\n",
    "    global df_items\n",
    "\n",
    "    # Filtra los juegos por el género especificado\n",
    "    games_filtered = df_games[df_games['genres'].str.contains(genero, case=False, na=False)]\n",
    "\n",
    "    # Fusiona df_items y df_games basado en item_id e id\n",
    "    merged_df = pd.merge(df_items, games_filtered, left_on='item_id', right_on='id', how='inner')\n",
    "    merged_df['release_date'] = pd.to_datetime(merged_df['release_date'])\n",
    "    merged_df['release_year'] = merged_df['release_date'].dt.year\n",
    "\n",
    "    # Agrupa por año y usuario, calcula las horas jugadas por usuario por año\n",
    "    grouped = merged_df.groupby(['release_year', 'user_id'])['playtime_forever'].sum().reset_index()\n",
    "\n",
    "    # Encuentra al usuario con más horas jugadas para el género dado\n",
    "    max_user = grouped[grouped['playtime_forever'] == grouped.groupby('release_year')['playtime_forever'].transform('max')]['user_id'].values[0]\n",
    "\n",
    "    # Filtra los datos para el usuario con más horas jugadas\n",
    "    user_data = grouped[grouped['user_id'] == max_user]\n",
    "\n",
    "    # Elimina los años con 0 horas jugadas\n",
    "    user_data = user_data[user_data['playtime_forever'] > 0]\n",
    "\n",
    "    # Ordena los años en orden descendente\n",
    "    user_data = user_data.sort_values(by='release_year', ascending=False)\n",
    "\n",
    "    # Convierte las horas a enteros\n",
    "    user_data['playtime_forever'] = user_data['playtime_forever'].astype(int)\n",
    "\n",
    "    # Crea una lista de la acumulación de horas jugadas por año\n",
    "    hours_by_year = [{'Año': int(year), 'Horas': int(hours)} for year, hours in zip(user_data['release_year'], user_data['playtime_forever'])]\n",
    "\n",
    "    result = {\n",
    "        \"Usuario con más horas jugadas para ese Género\": max_user,\n",
    "        \"Horas jugadas\": hours_by_year\n",
    "    }\n",
    "\n",
    "    return result\n"
   ]
  },
  {
   "cell_type": "code",
   "execution_count": 36,
   "metadata": {},
   "outputs": [
    {
     "name": "stdout",
     "output_type": "stream",
     "text": [
      "{'Usuario con más horas jugadas para ese Género': 'Steamified', 'Horas jugadas': [{'Año': 2017, 'Horas': 8614}, {'Año': 2016, 'Horas': 26855}, {'Año': 2015, 'Horas': 8294}, {'Año': 2014, 'Horas': 34928}, {'Año': 2013, 'Horas': 2249}, {'Año': 2012, 'Horas': 1780}, {'Año': 2011, 'Horas': 2062}, {'Año': 2010, 'Horas': 161}, {'Año': 2009, 'Horas': 134}, {'Año': 1995, 'Horas': 7335}]}\n"
     ]
    }
   ],
   "source": [
    "resultado2 = UserForGenre('Sports')\n",
    "print(resultado2)"
   ]
  },
  {
   "cell_type": "markdown",
   "metadata": {},
   "source": [
    "TERCERA FUNCION: def UsersRecommend( año : int ): Devuelve el top 3 de juegos MÁS recomendados por usuarios para el año dado. (reviews.recommend = True y comentarios positivos/neutrales)"
   ]
  },
  {
   "cell_type": "code",
   "execution_count": 53,
   "metadata": {},
   "outputs": [],
   "source": [
    "def UsersRecommend(año: int):\n",
    "    global df_games\n",
    "    global df_reviews\n",
    "\n",
    "    # Filtra las reseñas para el año dado y que tengan recomendación (recommend = True) y comentarios positivos/neutrales (sentiment_analysis >= 0)\n",
    "    reviews_filtered = df_reviews[(df_reviews['posted'].dt.year == año) &\n",
    "                                  (df_reviews['recommend'] == True) & (df_reviews['sentiment_analysis'] >= 0)]\n",
    "\n",
    "    # Agrupa las reseñas por item_id y cuenta cuántas veces cada juego ha sido recomendado\n",
    "    game_recommendations = reviews_filtered.groupby('item_id')['recommend'].sum().reset_index()\n",
    "\n",
    "    # Fusiona game_recommendations con df_games para obtener información sobre los juegos\n",
    "    top_games = pd.merge(game_recommendations, df_games, left_on='item_id', right_on='id', how='inner')\n",
    "\n",
    "    # Ordena los juegos por la cantidad de recomendaciones en orden descendente\n",
    "    top_games = top_games.sort_values(by='recommend', ascending=False)\n",
    "\n",
    "    # Selecciona los primeros 3 juegos recomendados y crea la lista de retorno\n",
    "    top_3_games = top_games.head(3)\n",
    "\n",
    "    # Crea una lista de diccionarios con el formato correcto\n",
    "    top_3_list = [{\"Puesto {}: {}\".format(i, juego['title'])} for i, juego in enumerate(top_3_games[['title', 'recommend']].to_dict(orient='records'), start=1)]\n",
    "\n",
    "    return top_3_list\n",
    "\n"
   ]
  },
  {
   "cell_type": "code",
   "execution_count": 54,
   "metadata": {},
   "outputs": [
    {
     "name": "stdout",
     "output_type": "stream",
     "text": [
      "[{'Puesto 1: Team Fortress 2'}, {'Puesto 2: Counter-Strike: Global Offensive'}, {\"Puesto 3: Garry's Mod\"}]\n"
     ]
    }
   ],
   "source": [
    "resultado3 = UsersRecommend(2014)\n",
    "print(resultado3)"
   ]
  },
  {
   "cell_type": "markdown",
   "metadata": {},
   "source": [
    "Ejemplo de retorno: [{\"Puesto 1\" : X}, {\"Puesto 2\" : Y},{\"Puesto 3\" : Z}]"
   ]
  },
  {
   "cell_type": "code",
   "execution_count": null,
   "metadata": {},
   "outputs": [],
   "source": [
    "def UsersNotRecommend(año: int):\n",
    "    global df_games\n",
    "    global df_reviews\n",
    "\n",
    "    # Filtra las reseñas para el año dado y que tengan no recomendación (recommend = False) y comentarios negativos (sentiment_analysis < 0)\n",
    "    reviews_filtered = df_reviews[(df_reviews['posted'].dt.year == año) &\n",
    "                                  (df_reviews['recommend'] == False) & (df_reviews['sentiment_analysis'] == 0)]\n",
    "\n",
    "    # Agrupa las reseñas por item_id y cuenta cuántas veces cada juego ha sido no recomendado\n",
    "    game_not_recommendations = reviews_filtered.groupby('item_id')['recommend'].sum().reset_index()\n",
    "\n",
    "    # Fusiona game_not_recommendations con df_games para obtener información sobre los juegos\n",
    "    top_not_recommend_games = pd.merge(game_not_recommendations, df_games, left_on='item_id', right_on='id', how='inner')\n",
    "\n",
    "    # Ordena los juegos por la cantidad de no recomendaciones en orden descendente\n",
    "    top_not_recommend_games = top_not_recommend_games.sort_values(by='recommend', ascending=False)\n",
    "\n",
    "    # Selecciona los primeros 3 juegos menos recomendados y crea la lista de retorno\n",
    "    top_3_not_recommend_games = top_not_recommend_games.head(3)\n",
    "\n",
    "    # Crea una lista de diccionarios con el formato correcto (sin el valor de recomendación)\n",
    "    top_3_not_recommend_list = [{\"Puesto {}: {}\".format(i, juego['title'])} for i, juego in enumerate(top_3_not_recommend_games[['title']].to_dict(orient='records'), start=1)]\n",
    "\n",
    "    return top_3_not_recommend_list\n",
    "\n"
   ]
  },
  {
   "cell_type": "code",
   "execution_count": null,
   "metadata": {},
   "outputs": [
    {
     "name": "stdout",
     "output_type": "stream",
     "text": [
      "[{'Puesto 1: Team Fortress 2'}, {\"Puesto 2: The Kings' Crusade\"}, {'Puesto 3: Red Faction®: Armageddon™'}]\n"
     ]
    }
   ],
   "source": [
    "resultado4 = UsersNotRecommend(2012)\n",
    "print(resultado4)"
   ]
  },
  {
   "cell_type": "code",
   "execution_count": 42,
   "metadata": {},
   "outputs": [
    {
     "name": "stdout",
     "output_type": "stream",
     "text": [
      "No hay reseñas para el año 2020 que cumplan con los criterios.\n"
     ]
    }
   ],
   "source": [
    "def VerificarReseñas(año: int):\n",
    "    global df_reviews\n",
    "\n",
    "    # Filtra las reseñas para el año dado y que tengan no recomendación (recommend = False) y comentarios negativos (sentiment_analysis < 0)\n",
    "    reseñas_filtradas = df_reviews[(df_reviews['posted'].dt.year == año) &\n",
    "                                  (df_reviews['recommend'] == False) & (df_reviews['sentiment_analysis'] == 0)]\n",
    "\n",
    "    # Verifica si hay reseñas que cumplen con los criterios\n",
    "    if not reseñas_filtradas.empty:\n",
    "        print(\"Hay reseñas para el año {} que cumplen con los criterios.\".format(año))\n",
    "    else:\n",
    "        print(\"No hay reseñas para el año {} que cumplan con los criterios.\".format(año))\n",
    "\n",
    "# Llamada a la función para verificar las reseñas para un año específico\n",
    "VerificarReseñas(2020)  # Cambia el año según tus datos\n"
   ]
  },
  {
   "cell_type": "code",
   "execution_count": 48,
   "metadata": {},
   "outputs": [
    {
     "data": {
      "text/html": [
       "<div>\n",
       "<style scoped>\n",
       "    .dataframe tbody tr th:only-of-type {\n",
       "        vertical-align: middle;\n",
       "    }\n",
       "\n",
       "    .dataframe tbody tr th {\n",
       "        vertical-align: top;\n",
       "    }\n",
       "\n",
       "    .dataframe thead th {\n",
       "        text-align: right;\n",
       "    }\n",
       "</style>\n",
       "<table border=\"1\" class=\"dataframe\">\n",
       "  <thead>\n",
       "    <tr style=\"text-align: right;\">\n",
       "      <th></th>\n",
       "      <th>posted</th>\n",
       "      <th>item_id</th>\n",
       "      <th>recommend</th>\n",
       "      <th>review</th>\n",
       "      <th>user_id</th>\n",
       "      <th>user_url</th>\n",
       "      <th>sentiment_analysis</th>\n",
       "    </tr>\n",
       "  </thead>\n",
       "  <tbody>\n",
       "    <tr>\n",
       "      <th>0</th>\n",
       "      <td>2011-11-05</td>\n",
       "      <td>1250</td>\n",
       "      <td>True</td>\n",
       "      <td>Simple yet with great replayability. In my opi...</td>\n",
       "      <td>76561197970982479</td>\n",
       "      <td>http://steamcommunity.com/profiles/76561197970...</td>\n",
       "      <td>1</td>\n",
       "    </tr>\n",
       "    <tr>\n",
       "      <th>1</th>\n",
       "      <td>2011-07-15</td>\n",
       "      <td>22200</td>\n",
       "      <td>True</td>\n",
       "      <td>It's unique and worth a playthrough.</td>\n",
       "      <td>76561197970982479</td>\n",
       "      <td>http://steamcommunity.com/profiles/76561197970...</td>\n",
       "      <td>2</td>\n",
       "    </tr>\n",
       "    <tr>\n",
       "      <th>2</th>\n",
       "      <td>2011-04-21</td>\n",
       "      <td>43110</td>\n",
       "      <td>True</td>\n",
       "      <td>Great atmosphere. The gunplay can be a bit chu...</td>\n",
       "      <td>76561197970982479</td>\n",
       "      <td>http://steamcommunity.com/profiles/76561197970...</td>\n",
       "      <td>1</td>\n",
       "    </tr>\n",
       "    <tr>\n",
       "      <th>3</th>\n",
       "      <td>2014-06-24</td>\n",
       "      <td>251610</td>\n",
       "      <td>True</td>\n",
       "      <td>I know what you think when you see this title ...</td>\n",
       "      <td>js41637</td>\n",
       "      <td>http://steamcommunity.com/id/js41637</td>\n",
       "      <td>1</td>\n",
       "    </tr>\n",
       "    <tr>\n",
       "      <th>4</th>\n",
       "      <td>2013-09-08</td>\n",
       "      <td>227300</td>\n",
       "      <td>True</td>\n",
       "      <td>For a simple (it's actually not all that simpl...</td>\n",
       "      <td>js41637</td>\n",
       "      <td>http://steamcommunity.com/id/js41637</td>\n",
       "      <td>1</td>\n",
       "    </tr>\n",
       "  </tbody>\n",
       "</table>\n",
       "</div>"
      ],
      "text/plain": [
       "      posted item_id  recommend  \\\n",
       "0 2011-11-05    1250       True   \n",
       "1 2011-07-15   22200       True   \n",
       "2 2011-04-21   43110       True   \n",
       "3 2014-06-24  251610       True   \n",
       "4 2013-09-08  227300       True   \n",
       "\n",
       "                                              review            user_id  \\\n",
       "0  Simple yet with great replayability. In my opi...  76561197970982479   \n",
       "1               It's unique and worth a playthrough.  76561197970982479   \n",
       "2  Great atmosphere. The gunplay can be a bit chu...  76561197970982479   \n",
       "3  I know what you think when you see this title ...            js41637   \n",
       "4  For a simple (it's actually not all that simpl...            js41637   \n",
       "\n",
       "                                            user_url  sentiment_analysis  \n",
       "0  http://steamcommunity.com/profiles/76561197970...                   1  \n",
       "1  http://steamcommunity.com/profiles/76561197970...                   2  \n",
       "2  http://steamcommunity.com/profiles/76561197970...                   1  \n",
       "3               http://steamcommunity.com/id/js41637                   1  \n",
       "4               http://steamcommunity.com/id/js41637                   1  "
      ]
     },
     "execution_count": 48,
     "metadata": {},
     "output_type": "execute_result"
    }
   ],
   "source": [
    "df_reviews.head()"
   ]
  },
  {
   "cell_type": "code",
   "execution_count": 45,
   "metadata": {},
   "outputs": [
    {
     "data": {
      "text/plain": [
       "6827"
      ]
     },
     "execution_count": 45,
     "metadata": {},
     "output_type": "execute_result"
    }
   ],
   "source": [
    "(df_reviews['recommend'] == False).sum()"
   ]
  },
  {
   "cell_type": "code",
   "execution_count": 44,
   "metadata": {},
   "outputs": [
    {
     "data": {
      "text/plain": [
       "5199"
      ]
     },
     "execution_count": 44,
     "metadata": {},
     "output_type": "execute_result"
    }
   ],
   "source": [
    "(df_reviews['sentiment_analysis'] == 0).sum()"
   ]
  },
  {
   "cell_type": "markdown",
   "metadata": {},
   "source": [
    "FUNCION 5: def sentiment_analysis( año : int ): Según el año de lanzamiento, se devuelve una lista con la cantidad de registros de reseñas de usuarios que se encuentren categorizados con un análisis de sentimiento."
   ]
  },
  {
   "cell_type": "code",
   "execution_count": 40,
   "metadata": {},
   "outputs": [],
   "source": [
    "def SentimentAnalysis(año: int):\n",
    "    global df_reviews\n",
    "    global df_games\n",
    "\n",
    "    # Filtra las reseñas para el año dado\n",
    "    reseñas_por_año = df_reviews[df_reviews['posted'].dt.year == año]\n",
    "\n",
    "    # Realiza el análisis de sentimiento para las reseñas\n",
    "    reseñas_por_año['sentiment_category'] = reseñas_por_año['sentiment_analysis'].apply(lambda x: 'Negative' if x == 0 else ('Neutral' if x == 1 else 'Positive'))\n",
    "\n",
    "    # Cuenta la cantidad de reseñas en cada categoría de sentimiento\n",
    "    conteo_sentimientos = reseñas_por_año['sentiment_category'].value_counts().to_dict()\n",
    "\n",
    "    return conteo_sentimientos\n"
   ]
  },
  {
   "cell_type": "code",
   "execution_count": 41,
   "metadata": {},
   "outputs": [
    {
     "name": "stdout",
     "output_type": "stream",
     "text": [
      "{'Neutral': 3883, 'Positive': 2425, 'Negative': 484}\n"
     ]
    },
    {
     "name": "stderr",
     "output_type": "stream",
     "text": [
      "C:\\Users\\Admin\\AppData\\Local\\Temp\\ipykernel_8160\\2902110627.py:9: SettingWithCopyWarning: \n",
      "A value is trying to be set on a copy of a slice from a DataFrame.\n",
      "Try using .loc[row_indexer,col_indexer] = value instead\n",
      "\n",
      "See the caveats in the documentation: https://pandas.pydata.org/pandas-docs/stable/user_guide/indexing.html#returning-a-view-versus-a-copy\n",
      "  reseñas_por_año['sentiment_category'] = reseñas_por_año['sentiment_analysis'].apply(lambda x: 'Negative' if x == 0 else ('Neutral' if x == 1 else 'Positive'))\n"
     ]
    }
   ],
   "source": [
    "# Ejemplo de uso\n",
    "resultado5 = SentimentAnalysis(2013)  # Cambia el año según tus datos\n",
    "print(resultado5)"
   ]
  },
  {
   "cell_type": "markdown",
   "metadata": {},
   "source": [
    "Exportamos los dos Dataframes mas pequeños en tamaño a .CSV y el Dataframe de Items (que es mas pesado), a tipo .PARQUET: "
   ]
  },
  {
   "cell_type": "code",
   "execution_count": 55,
   "metadata": {},
   "outputs": [],
   "source": [
    "# Exportar df_reviews a un archivo CSV\n",
    "df_reviews.to_csv('df_reviews.csv', index=False)  # El parámetro index=False evita que se incluya el índice en el archivo CSV"
   ]
  },
  {
   "cell_type": "code",
   "execution_count": 56,
   "metadata": {},
   "outputs": [],
   "source": [
    "# Exportar df_games a un archivo CSV\n",
    "df_games.to_csv('df_games.csv', index=False)"
   ]
  },
  {
   "cell_type": "code",
   "execution_count": 57,
   "metadata": {},
   "outputs": [],
   "source": [
    "# Exportar df_items a un archivo Parquet\n",
    "df_items.to_parquet('df_items.parquet', index=False)  # El parámetro index=False evita que se incluya el índice en el archivo Parquet"
   ]
  }
 ],
 "metadata": {
  "kernelspec": {
   "display_name": "Python 3 (ipykernel)",
   "language": "python",
   "name": "python3"
  },
  "language_info": {
   "codemirror_mode": {
    "name": "ipython",
    "version": 3
   },
   "file_extension": ".py",
   "mimetype": "text/x-python",
   "name": "python",
   "nbconvert_exporter": "python",
   "pygments_lexer": "ipython3",
   "version": "3.10.9"
  }
 },
 "nbformat": 4,
 "nbformat_minor": 2
}
